{
  "cells": [
    {
      "cell_type": "markdown",
      "metadata": {
        "id": "rUSWNT0fmlAu"
      },
      "source": [
        "## PART A"
      ]
    },
    {
      "cell_type": "code",
      "execution_count": 149,
      "metadata": {
        "colab": {
          "base_uri": "https://localhost:8080/"
        },
        "id": "JW4S5J5S2s6_",
        "outputId": "701f013a-b4ff-4db9-b7f9-c811c6fb9416"
      },
      "outputs": [
        {
          "output_type": "stream",
          "name": "stdout",
          "text": [
            "Drive already mounted at /content/drive; to attempt to forcibly remount, call drive.mount(\"/content/drive\", force_remount=True).\n"
          ]
        }
      ],
      "source": [
        "from google.colab import drive\n",
        "\n",
        "drive.mount('/content/drive')"
      ]
    },
    {
      "cell_type": "markdown",
      "metadata": {
        "id": "vTFrPMyCidJ-"
      },
      "source": [
        "###  Import and analyse the data set."
      ]
    },
    {
      "cell_type": "code",
      "execution_count": 150,
      "metadata": {
        "id": "9zfP9uRZ2005"
      },
      "outputs": [],
      "source": [
        "import pandas as pd\n",
        "import numpy as np\n",
        "import tensorflow as tf\n",
        "from keras.datasets import imdb\n",
        "\n",
        "import gensim.downloader as api\n",
        "import string\n",
        "from keras.preprocessing import sequence"
      ]
    },
    {
      "cell_type": "markdown",
      "metadata": {
        "id": "OYM8Q6zj1cSZ"
      },
      "source": [
        "Hint: - Use `imdb.load_data()` method\n",
        "- Get train and test set\n",
        "- Take 10000 most frequent words"
      ]
    },
    {
      "cell_type": "code",
      "execution_count": 151,
      "metadata": {
        "id": "ae7dat7x-qqm"
      },
      "outputs": [],
      "source": [
        "most_freq = 10000\n",
        "(x_train, y_train), (x_test, y_test) = imdb.load_data(num_words=most_freq)"
      ]
    },
    {
      "cell_type": "markdown",
      "metadata": {
        "id": "1Un21ioHikK_"
      },
      "source": [
        "### Perform following data analysis: \n",
        "1. Print shape of features and labels \n",
        "2. Print value of any one feature and it's label"
      ]
    },
    {
      "cell_type": "code",
      "execution_count": 152,
      "metadata": {
        "colab": {
          "base_uri": "https://localhost:8080/"
        },
        "id": "RLZ47vdAijfI",
        "outputId": "b2c0a502-7ed0-48a9-8501-3b4b24e39ea5"
      },
      "outputs": [
        {
          "output_type": "stream",
          "name": "stdout",
          "text": [
            "Training feature size (25000,)\n",
            "Training target size (25000,)\n",
            "Testing feature size (25000,)\n",
            "Testing target size (25000,)\n"
          ]
        }
      ],
      "source": [
        "# Shape of train and test features and target\n",
        "print('Training feature size',x_train.shape)\n",
        "print('Training target size',y_train.shape)\n",
        "print('Testing feature size',x_test.shape)\n",
        "print('Testing target size',y_test.shape)"
      ]
    },
    {
      "cell_type": "code",
      "execution_count": 152,
      "metadata": {
        "id": "Zie4wA8Rijc-"
      },
      "outputs": [],
      "source": [
        ""
      ]
    },
    {
      "cell_type": "markdown",
      "metadata": {
        "id": "eJrkJ5J0iq_F"
      },
      "source": [
        "### Decode the feature value to get original sentence"
      ]
    },
    {
      "cell_type": "code",
      "execution_count": 153,
      "metadata": {
        "id": "D--QkjHyijX2"
      },
      "outputs": [],
      "source": [
        "# Decoding an example of actual review\n",
        "word_index = imdb.get_word_index()\n",
        "\n",
        "reverse_word_index = dict([(value, key) for (key, value) in word_index.items()])"
      ]
    },
    {
      "cell_type": "code",
      "execution_count": 154,
      "metadata": {
        "colab": {
          "base_uri": "https://localhost:8080/"
        },
        "id": "K3iY-d-SijU2",
        "outputId": "6052d05a-9796-402b-b1bc-80aeb993eeb6"
      },
      "outputs": [
        {
          "output_type": "stream",
          "name": "stdout",
          "text": [
            "? the problems with ? ? ? e ? are many a one line concept that looks good on paper which also worked in an earlier english film love actually goes terribly wrong thanks to inept and shallow writing a well ? idea gets crushed to ? under the weight of its own ? ambition a director so completely ? by his own much ? first film goes overboard with the devices that worked in his earlier film ? ho ? ho try counting the number of times the device of split screens is used in this flick the problem is what worked ? in ? ho ? ho were the emotional ? of the ? ? school of film making but here ? doesn't quite grace us with its appearance on the screen no not even ? the writer director gives us ? relationships with one common problem ? but where is the intensity where is the depth where is the ? a ? to ? sans emotion and one that goes on and on and on ? it just cannot work br br in my opinion the basic ? for a ? film like this to work is that not only should each individual story be ? it should in some way or the other follow the ? of the traditional three act structure screen writing guru ? ? ? that's the real reason why ? e ? didn't work for me none of the stories had any depth or a roller coaster ride of emotional ups and downs one expects in mainstream hindi cinema also the ? between some of the stories seemed ? and very forced it's not clear what salman khan is doing at ? ? wedding if he was required to be present at the wedding scene for a neat wrap up why not ? a few more ? and bring the other two couples also to the wedding that would be ? br br but yes some of the stories did have a lot of promise for one the anil kapoor ? ? story tries to address a very real situation mid life crisis but its journey is so linear that you're left wondering if it was really an issue similarly the problem of commitment in the ? ? ? ? story is also true to life if only it was developed a little better i felt that the more promising stories in this ? mash were told from the male point of view which is fine but it brings down the emotional ? of these stories because the female characters ? ? and ? ? in particular have all the depth of a half filled bath ? wasn't this film supposed to be about ? different ? now the actors john abraham still needs to learn acting while ? ? is ? and endearing as ever anil kapoor gets a role written just for him but sometimes ? the boredom of his character since she didn't get a ? character to portray ? ? uses her charming smile and natural acting style to cover up for it ? ? is fine despite going a ? over the top in a few scenes ? ? has nothing much to do but she does remind us that she's the same girl who surprised us with her ? performance in ? govinda tries to make up for that huge mistake called ? ? and succeeds to a large extent br br that brings me the most irritating track of the film which ? ends up ? the maximum screen time salman khan and ? ? the track is irritating mainly because of them but i must credit them for their ? they're consistently bad all through the film ? could well be the next queen of ? i don't buy the crap that her role that of an ? ? required her to act over the top somebody should tell her the difference between being flamboyant because the character demands it and downright ? if you've seen ? ? who seems to be the inspiration behind this role in her interviews and ? boss you'll know what i mean i strongly feel that if ? ? had taken ? ? in this role rather than a bigger star like ? the story would have worked better salman ? phony accent is well shannon ? hindi is less ? than ? br br to be fair to the director he does manage to add some good directorial touches to the film i particularly liked the use of grey as the ? color in the anil kapoor ? ? story as a metaphor for their boring existence and the bright colors that come into the story with the arrival of the other woman but will anyone choose to paint their house in varying depressing shades of grey that's acceptable cinematic license i would say but when the film runs almost for 4 hours it almost feels like the director is trying too hard to give the audience a glimpse of his ? in an endlessly meandering montage of uninspiring sequences br br maybe ? ? wants us to sit in the theatre for as long as is ? possible ? ? ? ho ? ho\n"
          ]
        }
      ],
      "source": [
        "decoded_review = ' '.join([reverse_word_index.get(i - 3, '?') for i in x_train[23]])\n",
        "print(decoded_review)"
      ]
    },
    {
      "cell_type": "markdown",
      "metadata": {
        "id": "DdsUADwcEBvI"
      },
      "source": [
        "### Design, train, tune and test a sequential model."
      ]
    },
    {
      "cell_type": "code",
      "execution_count": 155,
      "metadata": {
        "id": "JYRa0wZPi0yy"
      },
      "outputs": [],
      "source": [
        "#Define maximum number of words to consider in each review\n",
        "max_review_length = 20 "
      ]
    },
    {
      "cell_type": "markdown",
      "metadata": {
        "id": "YmgKCd6MEHfH"
      },
      "source": [
        "#### 1. Pad sequences"
      ]
    },
    {
      "cell_type": "code",
      "execution_count": 156,
      "metadata": {
        "id": "Gy6zAoPoi67N"
      },
      "outputs": [],
      "source": [
        "#Pad training and test reviews\n",
        "X_train = tf.keras.preprocessing.sequence.pad_sequences(x_train,\n",
        "                                                        maxlen=max_review_length,\n",
        "                                                        padding='pre',\n",
        "                                                        truncating='post')\n",
        "X_test = tf.keras.preprocessing.sequence.pad_sequences(x_test, \n",
        "                                                       maxlen=max_review_length, \n",
        "                                                       padding='pre',\n",
        "                                                       truncating='post')"
      ]
    },
    {
      "cell_type": "code",
      "execution_count": 157,
      "metadata": {
        "colab": {
          "base_uri": "https://localhost:8080/"
        },
        "id": "CsNtxWcOCBnM",
        "outputId": "7105229e-76dc-4862-ff7b-3f06057a5e15"
      },
      "outputs": [
        {
          "output_type": "execute_result",
          "data": {
            "text/plain": [
              "(25000, 20)"
            ]
          },
          "metadata": {},
          "execution_count": 157
        }
      ],
      "source": [
        "X_train.shape"
      ]
    },
    {
      "cell_type": "code",
      "execution_count": 158,
      "metadata": {
        "colab": {
          "base_uri": "https://localhost:8080/"
        },
        "id": "J_TaXuJbCBj1",
        "outputId": "90b250ec-1bec-4d2b-dd47-8b10c4f04101"
      },
      "outputs": [
        {
          "output_type": "execute_result",
          "data": {
            "text/plain": [
              "(25000, 20)"
            ]
          },
          "metadata": {},
          "execution_count": 158
        }
      ],
      "source": [
        "X_test.shape"
      ]
    },
    {
      "cell_type": "code",
      "execution_count": 159,
      "metadata": {
        "colab": {
          "base_uri": "https://localhost:8080/"
        },
        "id": "zHcD_3VTCBhB",
        "outputId": "c145e61f-f109-4938-984b-2f104f7c5423"
      },
      "outputs": [
        {
          "output_type": "execute_result",
          "data": {
            "text/plain": [
              "array([   1,  785,  189,  438,   47,  110,  142,    7,    6, 7475,  120,\n",
              "          4,  236,  378,    7,  153,   19,   87,  108,  141], dtype=int32)"
            ]
          },
          "metadata": {},
          "execution_count": 159
        }
      ],
      "source": [
        "X_train[10]"
      ]
    },
    {
      "cell_type": "markdown",
      "metadata": {
        "id": "y22tJG8RENFq"
      },
      "source": [
        "#### 2. Load Google word2vec model"
      ]
    },
    {
      "cell_type": "code",
      "execution_count": 160,
      "metadata": {
        "id": "876j35NzCWC_"
      },
      "outputs": [],
      "source": [
        "#Load Google word2vec model\n",
        "model = api.load('word2vec-google-news-300')"
      ]
    },
    {
      "cell_type": "markdown",
      "metadata": {
        "id": "tzWDLI70ETno"
      },
      "source": [
        "#### 3. Get pre-trained embeddings"
      ]
    },
    {
      "cell_type": "code",
      "execution_count": 161,
      "metadata": {
        "id": "PG9PHrcZCV_n"
      },
      "outputs": [],
      "source": [
        "embedding_vector_length = model.vector_size"
      ]
    },
    {
      "cell_type": "code",
      "execution_count": 162,
      "metadata": {
        "id": "MtyVk-U_CV9H"
      },
      "outputs": [],
      "source": [
        "#Initialize embedding matrix for our dataset with 10000+1 rows (1 for padding word)\n",
        "#and 20 columns (as embedding size is 300)\n",
        "embedding_matrix = np.zeros((most_freq + 1, embedding_vector_length))"
      ]
    },
    {
      "cell_type": "code",
      "execution_count": 163,
      "metadata": {
        "id": "7MNd-gupCV60"
      },
      "outputs": [],
      "source": [
        "#Load word vectors for each word from Google Word2Vec model\n",
        "for word, i in sorted(word_index.items(),key=lambda x:x[1]):\n",
        "    if i > (most_freq+1):\n",
        "        break\n",
        "    try:\n",
        "        embedding_vector = model[word] #Reading word's embedding from Google Word2Vec\n",
        "        embedding_matrix[i] = embedding_vector\n",
        "    except:\n",
        "        pass"
      ]
    },
    {
      "cell_type": "markdown",
      "metadata": {
        "id": "D8eUU1bQEZHQ"
      },
      "source": [
        "#### 4. Build dense model"
      ]
    },
    {
      "cell_type": "code",
      "execution_count": 164,
      "metadata": {
        "id": "okKsL9WyCxkK"
      },
      "outputs": [],
      "source": [
        "#Initialize model\n",
        "tf.keras.backend.clear_session()\n",
        "model = tf.keras.Sequential()"
      ]
    },
    {
      "cell_type": "code",
      "execution_count": 165,
      "metadata": {
        "id": "UqfLXzw2Cxgs"
      },
      "outputs": [],
      "source": [
        "model.add(tf.keras.layers.Embedding(most_freq + 1, #Vocablury size\n",
        "                                    embedding_vector_length, #Embedding size\n",
        "                                    weights=[embedding_matrix], #Embeddings taken from pre-trained model\n",
        "                                    trainable=False, #As embeddings are already available, we will not train this layer. It will act as lookup layer.\n",
        "                                    input_length=max_review_length) #Number of words in each review\n",
        "          )"
      ]
    },
    {
      "cell_type": "code",
      "execution_count": 166,
      "metadata": {
        "colab": {
          "base_uri": "https://localhost:8080/"
        },
        "id": "EBSsr6H_CxeB",
        "outputId": "0ca9a064-5288-4ca5-b09d-1de4c13096be"
      },
      "outputs": [
        {
          "output_type": "execute_result",
          "data": {
            "text/plain": [
              "<KerasTensor: shape=(None, 20, 300) dtype=float32 (created by layer 'embedding')>"
            ]
          },
          "metadata": {},
          "execution_count": 166
        }
      ],
      "source": [
        "model.output"
      ]
    },
    {
      "cell_type": "code",
      "execution_count": 167,
      "metadata": {
        "id": "8QPPFQ2pCxbn"
      },
      "outputs": [],
      "source": [
        "#Flatten the data as we will use Dense layers\n",
        "model.add(tf.keras.layers.Flatten())"
      ]
    },
    {
      "cell_type": "code",
      "execution_count": 168,
      "metadata": {
        "id": "IbKjDPAiCxZP"
      },
      "outputs": [],
      "source": [
        "#Add Hidden layers (Dense layers)\n",
        "model.add(tf.keras.layers.Dense(100, activation='relu', input_shape=()))\n",
        "model.add(tf.keras.layers.BatchNormalization())\n",
        "model.add(tf.keras.layers.Dense(50, activation='relu'))\n",
        "model.add(tf.keras.layers.Dropout(0.5))\n",
        "model.add(tf.keras.layers.Dense(25, activation='relu'))\n",
        "model.add(tf.keras.layers.Dropout(0.5))"
      ]
    },
    {
      "cell_type": "code",
      "execution_count": 169,
      "metadata": {
        "id": "5Ro571LGDExX"
      },
      "outputs": [],
      "source": [
        "model.add(tf.keras.layers.Dense(1, activation='sigmoid'))"
      ]
    },
    {
      "cell_type": "code",
      "execution_count": 170,
      "metadata": {
        "id": "UxMOcHwSDEuC"
      },
      "outputs": [],
      "source": [
        "#Compile the model\n",
        "model.compile(optimizer='adam',loss='binary_crossentropy',metrics=['accuracy'])"
      ]
    },
    {
      "cell_type": "code",
      "execution_count": 171,
      "metadata": {
        "colab": {
          "base_uri": "https://localhost:8080/"
        },
        "id": "_iDS9UfDDErL",
        "outputId": "ec99a2b2-ba78-4786-9205-94b8c0e644e8"
      },
      "outputs": [
        {
          "output_type": "stream",
          "name": "stdout",
          "text": [
            "Model: \"sequential\"\n",
            "_________________________________________________________________\n",
            " Layer (type)                Output Shape              Param #   \n",
            "=================================================================\n",
            " embedding (Embedding)       (None, 20, 300)           3000300   \n",
            "                                                                 \n",
            " flatten (Flatten)           (None, 6000)              0         \n",
            "                                                                 \n",
            " dense (Dense)               (None, 100)               600100    \n",
            "                                                                 \n",
            " batch_normalization (BatchN  (None, 100)              400       \n",
            " ormalization)                                                   \n",
            "                                                                 \n",
            " dense_1 (Dense)             (None, 50)                5050      \n",
            "                                                                 \n",
            " dropout (Dropout)           (None, 50)                0         \n",
            "                                                                 \n",
            " dense_2 (Dense)             (None, 25)                1275      \n",
            "                                                                 \n",
            " dropout_1 (Dropout)         (None, 25)                0         \n",
            "                                                                 \n",
            " dense_3 (Dense)             (None, 1)                 26        \n",
            "                                                                 \n",
            "=================================================================\n",
            "Total params: 3,607,151\n",
            "Trainable params: 606,651\n",
            "Non-trainable params: 3,000,500\n",
            "_________________________________________________________________\n"
          ]
        }
      ],
      "source": [
        "model.summary()"
      ]
    },
    {
      "cell_type": "markdown",
      "metadata": {
        "id": "hjLDLr3dEf7L"
      },
      "source": [
        "#### 5.Train the model"
      ]
    },
    {
      "cell_type": "code",
      "execution_count": 172,
      "metadata": {
        "colab": {
          "base_uri": "https://localhost:8080/"
        },
        "id": "JwXPRdEQDEoh",
        "outputId": "8c99c8b7-42f4-4ddd-d9b5-b54d001134e0"
      },
      "outputs": [
        {
          "output_type": "stream",
          "name": "stdout",
          "text": [
            "Epoch 1/20\n",
            "782/782 [==============================] - 6s 6ms/step - loss: 0.7256 - accuracy: 0.5110 - val_loss: 0.6907 - val_accuracy: 0.5288\n",
            "Epoch 2/20\n",
            "782/782 [==============================] - 5s 6ms/step - loss: 0.6864 - accuracy: 0.5450 - val_loss: 0.6837 - val_accuracy: 0.5586\n",
            "Epoch 3/20\n",
            "782/782 [==============================] - 5s 6ms/step - loss: 0.6716 - accuracy: 0.5822 - val_loss: 0.6778 - val_accuracy: 0.5712\n",
            "Epoch 4/20\n",
            "782/782 [==============================] - 5s 6ms/step - loss: 0.6503 - accuracy: 0.6192 - val_loss: 0.6734 - val_accuracy: 0.5757\n",
            "Epoch 5/20\n",
            "782/782 [==============================] - 5s 6ms/step - loss: 0.6242 - accuracy: 0.6516 - val_loss: 0.6792 - val_accuracy: 0.5738\n",
            "Epoch 6/20\n",
            "782/782 [==============================] - 5s 6ms/step - loss: 0.5920 - accuracy: 0.6799 - val_loss: 0.6971 - val_accuracy: 0.5726\n",
            "Epoch 7/20\n",
            "782/782 [==============================] - 5s 6ms/step - loss: 0.5571 - accuracy: 0.7167 - val_loss: 0.7237 - val_accuracy: 0.5721\n",
            "Epoch 8/20\n",
            "782/782 [==============================] - 5s 6ms/step - loss: 0.5064 - accuracy: 0.7496 - val_loss: 0.8733 - val_accuracy: 0.5707\n",
            "Epoch 9/20\n",
            "782/782 [==============================] - 5s 6ms/step - loss: 0.4546 - accuracy: 0.7843 - val_loss: 0.8369 - val_accuracy: 0.5682\n",
            "Epoch 10/20\n",
            "782/782 [==============================] - 5s 6ms/step - loss: 0.3997 - accuracy: 0.8179 - val_loss: 0.9728 - val_accuracy: 0.5664\n",
            "Epoch 11/20\n",
            "782/782 [==============================] - 5s 6ms/step - loss: 0.3486 - accuracy: 0.8465 - val_loss: 1.2233 - val_accuracy: 0.5674\n",
            "Epoch 12/20\n",
            "782/782 [==============================] - 5s 6ms/step - loss: 0.3009 - accuracy: 0.8722 - val_loss: 1.2618 - val_accuracy: 0.5645\n",
            "Epoch 13/20\n",
            "782/782 [==============================] - 5s 6ms/step - loss: 0.2600 - accuracy: 0.8925 - val_loss: 1.3752 - val_accuracy: 0.5616\n",
            "Epoch 14/20\n",
            "782/782 [==============================] - 5s 6ms/step - loss: 0.2448 - accuracy: 0.9005 - val_loss: 1.3812 - val_accuracy: 0.5626\n",
            "Epoch 15/20\n",
            "782/782 [==============================] - 5s 6ms/step - loss: 0.2125 - accuracy: 0.9155 - val_loss: 1.7442 - val_accuracy: 0.5619\n",
            "Epoch 16/20\n",
            "782/782 [==============================] - 5s 6ms/step - loss: 0.1964 - accuracy: 0.9240 - val_loss: 1.6319 - val_accuracy: 0.5636\n",
            "Epoch 17/20\n",
            "782/782 [==============================] - 5s 6ms/step - loss: 0.1781 - accuracy: 0.9322 - val_loss: 1.7270 - val_accuracy: 0.5626\n",
            "Epoch 18/20\n",
            "782/782 [==============================] - 5s 6ms/step - loss: 0.1606 - accuracy: 0.9396 - val_loss: 1.9409 - val_accuracy: 0.5619\n",
            "Epoch 19/20\n",
            "782/782 [==============================] - 5s 6ms/step - loss: 0.1476 - accuracy: 0.9463 - val_loss: 1.9709 - val_accuracy: 0.5621\n",
            "Epoch 20/20\n",
            "782/782 [==============================] - 5s 6ms/step - loss: 0.1556 - accuracy: 0.9448 - val_loss: 2.0365 - val_accuracy: 0.5620\n"
          ]
        },
        {
          "output_type": "execute_result",
          "data": {
            "text/plain": [
              "<keras.callbacks.History at 0x7fee9b794fd0>"
            ]
          },
          "metadata": {},
          "execution_count": 172
        }
      ],
      "source": [
        "model.fit(X_train,y_train,\n",
        "          epochs=20,\n",
        "          batch_size=32,          \n",
        "          validation_data=(X_test, y_test))"
      ]
    },
    {
      "cell_type": "markdown",
      "metadata": {
        "id": "ErHIJEIqElEQ"
      },
      "source": [
        "#### 6. Build CNN Model"
      ]
    },
    {
      "cell_type": "code",
      "execution_count": 173,
      "metadata": {
        "id": "ScMa4pswDPm0"
      },
      "outputs": [],
      "source": [
        "model2 = tf.keras.Sequential()"
      ]
    },
    {
      "cell_type": "code",
      "execution_count": 174,
      "metadata": {
        "id": "qu5SKcZKDPjc"
      },
      "outputs": [],
      "source": [
        "model2.add(tf.keras.layers.Embedding(most_freq + 1, #Vocablury size\n",
        "                                    embedding_vector_length, #Embedding size\n",
        "                                    weights=[embedding_matrix], #Embeddings taken from pre-trained model\n",
        "                                    trainable=False, #As embeddings are already available, we will not train this layer. It will act as lookup layer.\n",
        "                                    input_length=max_review_length) #Number of words in each review\n",
        "          )"
      ]
    },
    {
      "cell_type": "code",
      "execution_count": 175,
      "metadata": {
        "colab": {
          "base_uri": "https://localhost:8080/"
        },
        "id": "mn8ZiJ8oDPhG",
        "outputId": "2e53aa03-9624-4041-a035-efc0d47b2799"
      },
      "outputs": [
        {
          "output_type": "execute_result",
          "data": {
            "text/plain": [
              "<KerasTensor: shape=(None, 20, 300) dtype=float32 (created by layer 'embedding_1')>"
            ]
          },
          "metadata": {},
          "execution_count": 175
        }
      ],
      "source": [
        "model2.output"
      ]
    },
    {
      "cell_type": "code",
      "execution_count": 176,
      "metadata": {
        "id": "_FCHGn8dDPel"
      },
      "outputs": [],
      "source": [
        "#Add first convolutional layer\n",
        "model2.add(tf.keras.layers.Conv1D(64, #Number of filters \n",
        "                                 kernel_size=(3), #Size of the filter\n",
        "                                 strides=1,\n",
        "                                 activation='relu'))\n",
        "\n",
        "#normalize data\n",
        "model2.add(tf.keras.layers.BatchNormalization())\n",
        "\n",
        "#Add second convolutional layer\n",
        "model2.add(tf.keras.layers.Conv1D(128, kernel_size=(3), strides=2))\n",
        "model2.add(tf.keras.layers.ReLU())\n",
        "\n",
        "#normalize data\n",
        "model2.add(tf.keras.layers.BatchNormalization())\n",
        "\n",
        "#Add third convolutional layer\n",
        "model2.add(tf.keras.layers.Conv1D(128, kernel_size=(3), strides=2))\n",
        "model2.add(tf.keras.layers.ReLU())\n",
        "\n",
        "#normalize data\n",
        "model2.add(tf.keras.layers.BatchNormalization())"
      ]
    },
    {
      "cell_type": "code",
      "execution_count": 177,
      "metadata": {
        "id": "jBxoT2frDaVp"
      },
      "outputs": [],
      "source": [
        "#Use Global Average Pooling\n",
        "model2.add(tf.keras.layers.GlobalAveragePooling1D())\n",
        "\n",
        "#Output layer\n",
        "model2.add(tf.keras.layers.Dense(1, activation='sigmoid'))"
      ]
    },
    {
      "cell_type": "code",
      "execution_count": 178,
      "metadata": {
        "id": "AUJg3wGtDcUh"
      },
      "outputs": [],
      "source": [
        "#Compile the model\n",
        "model2.compile(optimizer='adam',loss='binary_crossentropy',metrics=['accuracy'])"
      ]
    },
    {
      "cell_type": "code",
      "execution_count": 179,
      "metadata": {
        "colab": {
          "base_uri": "https://localhost:8080/"
        },
        "id": "Sg3iAOfKDcRE",
        "outputId": "3d34db02-6342-4712-d5ce-ab05e46368e5"
      },
      "outputs": [
        {
          "output_type": "stream",
          "name": "stdout",
          "text": [
            "Model: \"sequential_1\"\n",
            "_________________________________________________________________\n",
            " Layer (type)                Output Shape              Param #   \n",
            "=================================================================\n",
            " embedding_1 (Embedding)     (None, 20, 300)           3000300   \n",
            "                                                                 \n",
            " conv1d (Conv1D)             (None, 18, 64)            57664     \n",
            "                                                                 \n",
            " batch_normalization_1 (Batc  (None, 18, 64)           256       \n",
            " hNormalization)                                                 \n",
            "                                                                 \n",
            " conv1d_1 (Conv1D)           (None, 8, 128)            24704     \n",
            "                                                                 \n",
            " re_lu (ReLU)                (None, 8, 128)            0         \n",
            "                                                                 \n",
            " batch_normalization_2 (Batc  (None, 8, 128)           512       \n",
            " hNormalization)                                                 \n",
            "                                                                 \n",
            " conv1d_2 (Conv1D)           (None, 3, 128)            49280     \n",
            "                                                                 \n",
            " re_lu_1 (ReLU)              (None, 3, 128)            0         \n",
            "                                                                 \n",
            " batch_normalization_3 (Batc  (None, 3, 128)           512       \n",
            " hNormalization)                                                 \n",
            "                                                                 \n",
            " global_average_pooling1d (G  (None, 128)              0         \n",
            " lobalAveragePooling1D)                                          \n",
            "                                                                 \n",
            " dense_4 (Dense)             (None, 1)                 129       \n",
            "                                                                 \n",
            "=================================================================\n",
            "Total params: 3,133,357\n",
            "Trainable params: 132,417\n",
            "Non-trainable params: 3,000,940\n",
            "_________________________________________________________________\n"
          ]
        }
      ],
      "source": [
        "model2.summary()"
      ]
    },
    {
      "cell_type": "markdown",
      "metadata": {
        "id": "omc8BTLjEpUw"
      },
      "source": [
        "#### 7. Train the CNN model"
      ]
    },
    {
      "cell_type": "code",
      "execution_count": 180,
      "metadata": {
        "colab": {
          "base_uri": "https://localhost:8080/"
        },
        "id": "c2GpLkjADcO7",
        "outputId": "527738f2-d248-4c6f-b5bf-da6ea5691d22"
      },
      "outputs": [
        {
          "output_type": "stream",
          "name": "stdout",
          "text": [
            "Epoch 1/20\n",
            "782/782 [==============================] - 9s 10ms/step - loss: 0.6943 - accuracy: 0.5623 - val_loss: 0.6634 - val_accuracy: 0.5970\n",
            "Epoch 2/20\n",
            "782/782 [==============================] - 8s 10ms/step - loss: 0.6064 - accuracy: 0.6670 - val_loss: 0.6645 - val_accuracy: 0.6048\n",
            "Epoch 3/20\n",
            "782/782 [==============================] - 8s 10ms/step - loss: 0.5438 - accuracy: 0.7233 - val_loss: 0.6692 - val_accuracy: 0.6262\n",
            "Epoch 4/20\n",
            "782/782 [==============================] - 8s 10ms/step - loss: 0.4658 - accuracy: 0.7768 - val_loss: 0.7465 - val_accuracy: 0.6188\n",
            "Epoch 5/20\n",
            "782/782 [==============================] - 8s 10ms/step - loss: 0.3832 - accuracy: 0.8275 - val_loss: 0.8354 - val_accuracy: 0.6186\n",
            "Epoch 6/20\n",
            "782/782 [==============================] - 8s 10ms/step - loss: 0.3046 - accuracy: 0.8687 - val_loss: 0.9240 - val_accuracy: 0.6132\n",
            "Epoch 7/20\n",
            "782/782 [==============================] - 8s 10ms/step - loss: 0.2379 - accuracy: 0.9032 - val_loss: 1.0546 - val_accuracy: 0.6123\n",
            "Epoch 8/20\n",
            "782/782 [==============================] - 8s 10ms/step - loss: 0.1904 - accuracy: 0.9234 - val_loss: 1.2574 - val_accuracy: 0.6038\n",
            "Epoch 9/20\n",
            "782/782 [==============================] - 8s 10ms/step - loss: 0.1627 - accuracy: 0.9363 - val_loss: 1.4050 - val_accuracy: 0.6104\n",
            "Epoch 10/20\n",
            "782/782 [==============================] - 8s 10ms/step - loss: 0.1408 - accuracy: 0.9465 - val_loss: 1.4223 - val_accuracy: 0.6139\n",
            "Epoch 11/20\n",
            "782/782 [==============================] - 8s 10ms/step - loss: 0.1171 - accuracy: 0.9548 - val_loss: 1.6311 - val_accuracy: 0.6120\n",
            "Epoch 12/20\n",
            "782/782 [==============================] - 8s 10ms/step - loss: 0.1156 - accuracy: 0.9553 - val_loss: 1.5436 - val_accuracy: 0.6137\n",
            "Epoch 13/20\n",
            "782/782 [==============================] - 8s 10ms/step - loss: 0.1033 - accuracy: 0.9614 - val_loss: 1.6961 - val_accuracy: 0.6068\n",
            "Epoch 14/20\n",
            "782/782 [==============================] - 8s 10ms/step - loss: 0.0936 - accuracy: 0.9642 - val_loss: 1.7485 - val_accuracy: 0.6068\n",
            "Epoch 15/20\n",
            "782/782 [==============================] - 8s 10ms/step - loss: 0.0990 - accuracy: 0.9637 - val_loss: 1.7216 - val_accuracy: 0.6096\n",
            "Epoch 16/20\n",
            "782/782 [==============================] - 8s 10ms/step - loss: 0.0829 - accuracy: 0.9693 - val_loss: 1.8363 - val_accuracy: 0.6112\n",
            "Epoch 17/20\n",
            "782/782 [==============================] - 8s 10ms/step - loss: 0.0836 - accuracy: 0.9686 - val_loss: 1.8389 - val_accuracy: 0.6114\n",
            "Epoch 18/20\n",
            "782/782 [==============================] - 8s 10ms/step - loss: 0.0843 - accuracy: 0.9685 - val_loss: 1.8028 - val_accuracy: 0.6130\n",
            "Epoch 19/20\n",
            "782/782 [==============================] - 8s 10ms/step - loss: 0.0677 - accuracy: 0.9739 - val_loss: 1.9581 - val_accuracy: 0.6165\n",
            "Epoch 20/20\n",
            "782/782 [==============================] - 8s 10ms/step - loss: 0.0688 - accuracy: 0.9745 - val_loss: 1.9693 - val_accuracy: 0.6126\n"
          ]
        },
        {
          "output_type": "execute_result",
          "data": {
            "text/plain": [
              "<keras.callbacks.History at 0x7fee35974190>"
            ]
          },
          "metadata": {},
          "execution_count": 180
        }
      ],
      "source": [
        "model2.fit(X_train,y_train,\n",
        "          epochs=20,\n",
        "          batch_size=32,          \n",
        "          validation_data=(X_test, y_test))"
      ]
    },
    {
      "cell_type": "code",
      "execution_count": 181,
      "metadata": {
        "colab": {
          "base_uri": "https://localhost:8080/"
        },
        "id": "uiQeA-KHHtjD",
        "outputId": "cf4d5552-dae1-475e-c1aa-cfb58963c7c8"
      },
      "outputs": [
        {
          "output_type": "stream",
          "name": "stdout",
          "text": [
            "Accuracy: 56.20%\n"
          ]
        }
      ],
      "source": [
        "scores_m1 = model.evaluate(X_test, y_test, verbose=0)\n",
        "print(\"Accuracy: %.2f%%\" % (scores_m1[1] * 100))"
      ]
    },
    {
      "cell_type": "code",
      "execution_count": 182,
      "metadata": {
        "colab": {
          "base_uri": "https://localhost:8080/"
        },
        "id": "2zYjDuYQPNV-",
        "outputId": "db39d70b-63c8-42d4-cedd-6b4bdeaa54b1"
      },
      "outputs": [
        {
          "output_type": "stream",
          "name": "stdout",
          "text": [
            "Accuracy: 61.26%\n"
          ]
        }
      ],
      "source": [
        "scores_m2 = model2.evaluate(X_test, y_test, verbose=0)\n",
        "print(\"Accuracy: %.2f%%\" % (scores_m2[1] * 100))"
      ]
    },
    {
      "cell_type": "markdown",
      "metadata": {
        "id": "sBpaDEFnizdL"
      },
      "source": [
        "### Use the designed model to print the prediction on any one sample."
      ]
    },
    {
      "cell_type": "code",
      "execution_count": 183,
      "metadata": {
        "id": "inHbLQdHD_wM"
      },
      "outputs": [],
      "source": [
        "def analyze(text):\n",
        "    # Prepare the input by removing punctuation characters, converting\n",
        "    # characters to lower case, and removing words containing numbers\n",
        "    translator = str.maketrans('', '', string.punctuation)\n",
        "    text = text.translate(translator)\n",
        "    text = text.lower().split(' ')\n",
        "    text = [word for word in text if word.isalpha()]\n",
        "\n",
        "    # Generate an input tensor\n",
        "    input = [1]\n",
        "    for word in text:\n",
        "        if word in word_index and word_index[word] < most_freq:\n",
        "            input.append(word_index[word])\n",
        "        else:\n",
        "            input.append(2)\n",
        "    padded_input = sequence.pad_sequences([input], maxlen=max_review_length)\n",
        "\n",
        "    # Invoke the model and return the result\n",
        "    result_m1 = model.predict(np.array([padded_input][0]))[0][0]\n",
        "    result_m2 = model2.predict(np.array([padded_input][0]))[0][0]\n",
        "\n",
        "    return result_m1,result_m2"
      ]
    },
    {
      "cell_type": "code",
      "execution_count": 184,
      "metadata": {
        "colab": {
          "base_uri": "https://localhost:8080/"
        },
        "id": "2zesKKK-D_n7",
        "outputId": "1e491e50-32ce-4f63-dc91-f3f8bb14beec"
      },
      "outputs": [
        {
          "output_type": "stream",
          "name": "stdout",
          "text": [
            "WARNING:tensorflow:5 out of the last 21 calls to <function Model.make_predict_function.<locals>.predict_function at 0x7fef387e4ef0> triggered tf.function retracing. Tracing is expensive and the excessive number of tracings could be due to (1) creating @tf.function repeatedly in a loop, (2) passing tensors with different shapes, (3) passing Python objects instead of tensors. For (1), please define your @tf.function outside of the loop. For (2), @tf.function has experimental_relax_shapes=True option that relaxes argument shapes that can avoid unnecessary retracing. For (3), please refer to https://www.tensorflow.org/guide/function#controlling_retracing and https://www.tensorflow.org/api_docs/python/tf/function for  more details.\n",
            "Prediction with Dense Model 0.0046257623\n",
            "Prediction with CNN Model 0.008412846\n"
          ]
        }
      ],
      "source": [
        "Review1 = 'What a bad movie, hated it'\n",
        "\n",
        "print('Prediction with Dense Model', analyze(Review1)[0])\n",
        "print('Prediction with CNN Model', analyze(Review1)[1])"
      ]
    },
    {
      "cell_type": "code",
      "execution_count": 185,
      "metadata": {
        "colab": {
          "base_uri": "https://localhost:8080/"
        },
        "id": "BzHYKZ-zJk-t",
        "outputId": "6c9dba73-b2cb-479c-9151-a40eb7641b1a"
      },
      "outputs": [
        {
          "output_type": "stream",
          "name": "stdout",
          "text": [
            "Prediction with Dense Model 0.20845927\n",
            "Prediction with CNN Model 0.6232906\n"
          ]
        }
      ],
      "source": [
        "Review2 = 'I loved the actors and the amazing direction'\n",
        "\n",
        "print('Prediction with Dense Model', analyze(Review2)[0])\n",
        "print('Prediction with CNN Model', analyze(Review2)[1])"
      ]
    },
    {
      "cell_type": "markdown",
      "metadata": {
        "id": "HWMg3bVBLWnA"
      },
      "source": [
        "Conclusion : As seen from the two models we can see that\n",
        "1. Review 1 is a negative sentiment and dense model predicts it with a accuracy of 0.0046 , and CNN model predicts it with a  accuracy of 0.00844 which is closer to 1 ; appropriate for a negative comment\n",
        "\n",
        "2. Review 2 is a positive sentiment and dense model predicts it with a accuracy of 0.20 , but CNN model predicts it with better accuracy 0.62 which is closer to 1 ; appropriate for a positive comment"
      ]
    },
    {
      "cell_type": "markdown",
      "metadata": {
        "id": "LfE926sSi7aa"
      },
      "source": [
        "## PART B"
      ]
    },
    {
      "cell_type": "code",
      "source": [
        "import os\n",
        "import seaborn as sns\n",
        "import matplotlib.pyplot as plt\n",
        "import re, string\n",
        "from sklearn.model_selection import train_test_split\n",
        "from tensorflow.keras.preprocessing.text import Tokenizer\n",
        "from tensorflow.keras.preprocessing.sequence import pad_sequences\n",
        "from sklearn.metrics import confusion_matrix"
      ],
      "metadata": {
        "id": "kgoyuYFDaxfI"
      },
      "execution_count": 186,
      "outputs": []
    },
    {
      "cell_type": "code",
      "source": [
        "from keras.models import Sequential\n",
        "from keras.layers import Embedding, Flatten, Dense\n",
        "from tensorflow.python.keras.layers import Dropout, Dense, Embedding, Flatten, LSTM\n",
        "from gensim.scripts.glove2word2vec import glove2word2vec\n",
        "from gensim.models import Word2Vec, KeyedVectors"
      ],
      "metadata": {
        "id": "ACSWBluIUp08"
      },
      "execution_count": 187,
      "outputs": []
    },
    {
      "cell_type": "markdown",
      "metadata": {
        "id": "Vjsnb9t_i-ov"
      },
      "source": [
        "### Read and explore the data"
      ]
    },
    {
      "cell_type": "code",
      "execution_count": 188,
      "metadata": {
        "id": "ftozEJfJi632",
        "colab": {
          "base_uri": "https://localhost:8080/",
          "height": 206
        },
        "outputId": "c50f88e7-5d45-4c6e-d410-58616dabfdf4"
      },
      "outputs": [
        {
          "output_type": "execute_result",
          "data": {
            "text/html": [
              "\n",
              "  <div id=\"df-9ba5f403-6509-48e1-8e45-180d1bd1e52d\">\n",
              "    <div class=\"colab-df-container\">\n",
              "      <div>\n",
              "<style scoped>\n",
              "    .dataframe tbody tr th:only-of-type {\n",
              "        vertical-align: middle;\n",
              "    }\n",
              "\n",
              "    .dataframe tbody tr th {\n",
              "        vertical-align: top;\n",
              "    }\n",
              "\n",
              "    .dataframe thead th {\n",
              "        text-align: right;\n",
              "    }\n",
              "</style>\n",
              "<table border=\"1\" class=\"dataframe\">\n",
              "  <thead>\n",
              "    <tr style=\"text-align: right;\">\n",
              "      <th></th>\n",
              "      <th>is_sarcastic</th>\n",
              "      <th>headline</th>\n",
              "      <th>article_link</th>\n",
              "    </tr>\n",
              "  </thead>\n",
              "  <tbody>\n",
              "    <tr>\n",
              "      <th>0</th>\n",
              "      <td>1</td>\n",
              "      <td>thirtysomething scientists unveil doomsday clo...</td>\n",
              "      <td>https://www.theonion.com/thirtysomething-scien...</td>\n",
              "    </tr>\n",
              "    <tr>\n",
              "      <th>1</th>\n",
              "      <td>0</td>\n",
              "      <td>dem rep. totally nails why congress is falling...</td>\n",
              "      <td>https://www.huffingtonpost.com/entry/donna-edw...</td>\n",
              "    </tr>\n",
              "    <tr>\n",
              "      <th>2</th>\n",
              "      <td>0</td>\n",
              "      <td>eat your veggies: 9 deliciously different recipes</td>\n",
              "      <td>https://www.huffingtonpost.com/entry/eat-your-...</td>\n",
              "    </tr>\n",
              "    <tr>\n",
              "      <th>3</th>\n",
              "      <td>1</td>\n",
              "      <td>inclement weather prevents liar from getting t...</td>\n",
              "      <td>https://local.theonion.com/inclement-weather-p...</td>\n",
              "    </tr>\n",
              "    <tr>\n",
              "      <th>4</th>\n",
              "      <td>1</td>\n",
              "      <td>mother comes pretty close to using word 'strea...</td>\n",
              "      <td>https://www.theonion.com/mother-comes-pretty-c...</td>\n",
              "    </tr>\n",
              "  </tbody>\n",
              "</table>\n",
              "</div>\n",
              "      <button class=\"colab-df-convert\" onclick=\"convertToInteractive('df-9ba5f403-6509-48e1-8e45-180d1bd1e52d')\"\n",
              "              title=\"Convert this dataframe to an interactive table.\"\n",
              "              style=\"display:none;\">\n",
              "        \n",
              "  <svg xmlns=\"http://www.w3.org/2000/svg\" height=\"24px\"viewBox=\"0 0 24 24\"\n",
              "       width=\"24px\">\n",
              "    <path d=\"M0 0h24v24H0V0z\" fill=\"none\"/>\n",
              "    <path d=\"M18.56 5.44l.94 2.06.94-2.06 2.06-.94-2.06-.94-.94-2.06-.94 2.06-2.06.94zm-11 1L8.5 8.5l.94-2.06 2.06-.94-2.06-.94L8.5 2.5l-.94 2.06-2.06.94zm10 10l.94 2.06.94-2.06 2.06-.94-2.06-.94-.94-2.06-.94 2.06-2.06.94z\"/><path d=\"M17.41 7.96l-1.37-1.37c-.4-.4-.92-.59-1.43-.59-.52 0-1.04.2-1.43.59L10.3 9.45l-7.72 7.72c-.78.78-.78 2.05 0 2.83L4 21.41c.39.39.9.59 1.41.59.51 0 1.02-.2 1.41-.59l7.78-7.78 2.81-2.81c.8-.78.8-2.07 0-2.86zM5.41 20L4 18.59l7.72-7.72 1.47 1.35L5.41 20z\"/>\n",
              "  </svg>\n",
              "      </button>\n",
              "      \n",
              "  <style>\n",
              "    .colab-df-container {\n",
              "      display:flex;\n",
              "      flex-wrap:wrap;\n",
              "      gap: 12px;\n",
              "    }\n",
              "\n",
              "    .colab-df-convert {\n",
              "      background-color: #E8F0FE;\n",
              "      border: none;\n",
              "      border-radius: 50%;\n",
              "      cursor: pointer;\n",
              "      display: none;\n",
              "      fill: #1967D2;\n",
              "      height: 32px;\n",
              "      padding: 0 0 0 0;\n",
              "      width: 32px;\n",
              "    }\n",
              "\n",
              "    .colab-df-convert:hover {\n",
              "      background-color: #E2EBFA;\n",
              "      box-shadow: 0px 1px 2px rgba(60, 64, 67, 0.3), 0px 1px 3px 1px rgba(60, 64, 67, 0.15);\n",
              "      fill: #174EA6;\n",
              "    }\n",
              "\n",
              "    [theme=dark] .colab-df-convert {\n",
              "      background-color: #3B4455;\n",
              "      fill: #D2E3FC;\n",
              "    }\n",
              "\n",
              "    [theme=dark] .colab-df-convert:hover {\n",
              "      background-color: #434B5C;\n",
              "      box-shadow: 0px 1px 3px 1px rgba(0, 0, 0, 0.15);\n",
              "      filter: drop-shadow(0px 1px 2px rgba(0, 0, 0, 0.3));\n",
              "      fill: #FFFFFF;\n",
              "    }\n",
              "  </style>\n",
              "\n",
              "      <script>\n",
              "        const buttonEl =\n",
              "          document.querySelector('#df-9ba5f403-6509-48e1-8e45-180d1bd1e52d button.colab-df-convert');\n",
              "        buttonEl.style.display =\n",
              "          google.colab.kernel.accessAllowed ? 'block' : 'none';\n",
              "\n",
              "        async function convertToInteractive(key) {\n",
              "          const element = document.querySelector('#df-9ba5f403-6509-48e1-8e45-180d1bd1e52d');\n",
              "          const dataTable =\n",
              "            await google.colab.kernel.invokeFunction('convertToInteractive',\n",
              "                                                     [key], {});\n",
              "          if (!dataTable) return;\n",
              "\n",
              "          const docLinkHtml = 'Like what you see? Visit the ' +\n",
              "            '<a target=\"_blank\" href=https://colab.research.google.com/notebooks/data_table.ipynb>data table notebook</a>'\n",
              "            + ' to learn more about interactive tables.';\n",
              "          element.innerHTML = '';\n",
              "          dataTable['output_type'] = 'display_data';\n",
              "          await google.colab.output.renderOutput(dataTable, element);\n",
              "          const docLink = document.createElement('div');\n",
              "          docLink.innerHTML = docLinkHtml;\n",
              "          element.appendChild(docLink);\n",
              "        }\n",
              "      </script>\n",
              "    </div>\n",
              "  </div>\n",
              "  "
            ],
            "text/plain": [
              "   is_sarcastic  ...                                       article_link\n",
              "0             1  ...  https://www.theonion.com/thirtysomething-scien...\n",
              "1             0  ...  https://www.huffingtonpost.com/entry/donna-edw...\n",
              "2             0  ...  https://www.huffingtonpost.com/entry/eat-your-...\n",
              "3             1  ...  https://local.theonion.com/inclement-weather-p...\n",
              "4             1  ...  https://www.theonion.com/mother-comes-pretty-c...\n",
              "\n",
              "[5 rows x 3 columns]"
            ]
          },
          "metadata": {},
          "execution_count": 188
        }
      ],
      "source": [
        "#change file path to point to where you have stored the text file.\n",
        "headlines = pd.read_json('/content/drive/MyDrive/AI-ML/NLP Project/Sarcasm_headlines_dataset.json', lines=True)\n",
        "headlines.head()"
      ]
    },
    {
      "cell_type": "code",
      "source": [
        "plt.figure(figsize=(4, 5))\n",
        "sns.countplot(x=headlines['is_sarcastic'])\n",
        "plt.title('Count of non sarcastic and sarcastic headlines')\n",
        "plt.show()"
      ],
      "metadata": {
        "colab": {
          "base_uri": "https://localhost:8080/",
          "height": 351
        },
        "id": "m6zc2z0-alsR",
        "outputId": "4f45bed6-b4c3-4539-8343-57d6c2db4641"
      },
      "execution_count": 189,
      "outputs": [
        {
          "output_type": "display_data",
          "data": {
            "image/png": "[encoded data removed]",
            "text/plain": [
              "<Figure size 288x360 with 1 Axes>"
            ]
          },
          "metadata": {
            "needs_background": "light"
          }
        }
      ]
    },
    {
      "cell_type": "markdown",
      "source": [
        "*   0 - Sarcastic headline\n",
        "*   1 - Non-Sarcastic headline"
      ],
      "metadata": {
        "id": "C5xeJW61bdKc"
      }
    },
    {
      "cell_type": "code",
      "source": [
        "sarcastic = headlines[headlines['is_sarcastic'] == 1]\n",
        "non_sarcastic = headlines[headlines['is_sarcastic'] != 1]\n",
        "\n",
        "print('No. of saracastic headlines :', len(sarcastic))\n",
        "print('No. of non-saracastic headlines :', len(non_sarcastic))"
      ],
      "metadata": {
        "colab": {
          "base_uri": "https://localhost:8080/"
        },
        "id": "QFXi_T8Bb0tg",
        "outputId": "52dc2ef5-31d0-4756-e11e-2fe2ec5c5c7a"
      },
      "execution_count": 190,
      "outputs": [
        {
          "output_type": "stream",
          "name": "stdout",
          "text": [
            "No. of saracastic headlines : 13634\n",
            "No. of non-saracastic headlines : 14985\n"
          ]
        }
      ]
    },
    {
      "cell_type": "code",
      "source": [
        "def clean_str(string):\n",
        "  try:   \n",
        "    # Removing URLs \n",
        "    string = re.sub(r'https?:\\/\\/.*[\\r\\n]*', '', string) \n",
        "\n",
        "    # Removing special characters \n",
        "    string = re.sub(r'[\\.;:,\\?\\\"\\'\\/\\=\\\\\\-\\(\\)\\*\\&\\@\\$\\#\\^\\%\\~\\!\\+\\_\\{\\}\\[\\]\\|\\<\\>\\`]','', string)\n",
        "\n",
        "    # Removing only numeric data entries\n",
        "    string = re.sub(r'[0-9]','',string)  \n",
        "\n",
        "    # Removing leading and trailing whitespaces\n",
        "    string = string.strip()\n",
        "\n",
        "    # Remoing in between whitespaces\n",
        "    words = string.strip().split()    \n",
        "    words = [w for w in words if len(w)>=1]\n",
        "    return \" \".join(words)\n",
        "\n",
        "  except:\n",
        "    return \"\""
      ],
      "metadata": {
        "id": "TAfWhalncMoU"
      },
      "execution_count": 191,
      "outputs": []
    },
    {
      "cell_type": "code",
      "source": [
        "# apply preprocessing steps\n",
        "\n",
        "headlines['headline'] = headlines['headline'].str.lower()\n",
        "headlines['headline'] = headlines['headline'].apply(clean_str)\n",
        "\n",
        "headlines.head()"
      ],
      "metadata": {
        "colab": {
          "base_uri": "https://localhost:8080/",
          "height": 206
        },
        "id": "tOd7pjWEcMkw",
        "outputId": "90af2670-7350-4b0d-ecfb-18a9a097476a"
      },
      "execution_count": 192,
      "outputs": [
        {
          "output_type": "execute_result",
          "data": {
            "text/html": [
              "\n",
              "  <div id=\"df-1df00886-e584-4708-b059-04029e3172de\">\n",
              "    <div class=\"colab-df-container\">\n",
              "      <div>\n",
              "<style scoped>\n",
              "    .dataframe tbody tr th:only-of-type {\n",
              "        vertical-align: middle;\n",
              "    }\n",
              "\n",
              "    .dataframe tbody tr th {\n",
              "        vertical-align: top;\n",
              "    }\n",
              "\n",
              "    .dataframe thead th {\n",
              "        text-align: right;\n",
              "    }\n",
              "</style>\n",
              "<table border=\"1\" class=\"dataframe\">\n",
              "  <thead>\n",
              "    <tr style=\"text-align: right;\">\n",
              "      <th></th>\n",
              "      <th>is_sarcastic</th>\n",
              "      <th>headline</th>\n",
              "      <th>article_link</th>\n",
              "    </tr>\n",
              "  </thead>\n",
              "  <tbody>\n",
              "    <tr>\n",
              "      <th>0</th>\n",
              "      <td>1</td>\n",
              "      <td>thirtysomething scientists unveil doomsday clo...</td>\n",
              "      <td>https://www.theonion.com/thirtysomething-scien...</td>\n",
              "    </tr>\n",
              "    <tr>\n",
              "      <th>1</th>\n",
              "      <td>0</td>\n",
              "      <td>dem rep totally nails why congress is falling ...</td>\n",
              "      <td>https://www.huffingtonpost.com/entry/donna-edw...</td>\n",
              "    </tr>\n",
              "    <tr>\n",
              "      <th>2</th>\n",
              "      <td>0</td>\n",
              "      <td>eat your veggies deliciously different recipes</td>\n",
              "      <td>https://www.huffingtonpost.com/entry/eat-your-...</td>\n",
              "    </tr>\n",
              "    <tr>\n",
              "      <th>3</th>\n",
              "      <td>1</td>\n",
              "      <td>inclement weather prevents liar from getting t...</td>\n",
              "      <td>https://local.theonion.com/inclement-weather-p...</td>\n",
              "    </tr>\n",
              "    <tr>\n",
              "      <th>4</th>\n",
              "      <td>1</td>\n",
              "      <td>mother comes pretty close to using word stream...</td>\n",
              "      <td>https://www.theonion.com/mother-comes-pretty-c...</td>\n",
              "    </tr>\n",
              "  </tbody>\n",
              "</table>\n",
              "</div>\n",
              "      <button class=\"colab-df-convert\" onclick=\"convertToInteractive('df-1df00886-e584-4708-b059-04029e3172de')\"\n",
              "              title=\"Convert this dataframe to an interactive table.\"\n",
              "              style=\"display:none;\">\n",
              "        \n",
              "  <svg xmlns=\"http://www.w3.org/2000/svg\" height=\"24px\"viewBox=\"0 0 24 24\"\n",
              "       width=\"24px\">\n",
              "    <path d=\"M0 0h24v24H0V0z\" fill=\"none\"/>\n",
              "    <path d=\"M18.56 5.44l.94 2.06.94-2.06 2.06-.94-2.06-.94-.94-2.06-.94 2.06-2.06.94zm-11 1L8.5 8.5l.94-2.06 2.06-.94-2.06-.94L8.5 2.5l-.94 2.06-2.06.94zm10 10l.94 2.06.94-2.06 2.06-.94-2.06-.94-.94-2.06-.94 2.06-2.06.94z\"/><path d=\"M17.41 7.96l-1.37-1.37c-.4-.4-.92-.59-1.43-.59-.52 0-1.04.2-1.43.59L10.3 9.45l-7.72 7.72c-.78.78-.78 2.05 0 2.83L4 21.41c.39.39.9.59 1.41.59.51 0 1.02-.2 1.41-.59l7.78-7.78 2.81-2.81c.8-.78.8-2.07 0-2.86zM5.41 20L4 18.59l7.72-7.72 1.47 1.35L5.41 20z\"/>\n",
              "  </svg>\n",
              "      </button>\n",
              "      \n",
              "  <style>\n",
              "    .colab-df-container {\n",
              "      display:flex;\n",
              "      flex-wrap:wrap;\n",
              "      gap: 12px;\n",
              "    }\n",
              "\n",
              "    .colab-df-convert {\n",
              "      background-color: #E8F0FE;\n",
              "      border: none;\n",
              "      border-radius: 50%;\n",
              "      cursor: pointer;\n",
              "      display: none;\n",
              "      fill: #1967D2;\n",
              "      height: 32px;\n",
              "      padding: 0 0 0 0;\n",
              "      width: 32px;\n",
              "    }\n",
              "\n",
              "    .colab-df-convert:hover {\n",
              "      background-color: #E2EBFA;\n",
              "      box-shadow: 0px 1px 2px rgba(60, 64, 67, 0.3), 0px 1px 3px 1px rgba(60, 64, 67, 0.15);\n",
              "      fill: #174EA6;\n",
              "    }\n",
              "\n",
              "    [theme=dark] .colab-df-convert {\n",
              "      background-color: #3B4455;\n",
              "      fill: #D2E3FC;\n",
              "    }\n",
              "\n",
              "    [theme=dark] .colab-df-convert:hover {\n",
              "      background-color: #434B5C;\n",
              "      box-shadow: 0px 1px 3px 1px rgba(0, 0, 0, 0.15);\n",
              "      filter: drop-shadow(0px 1px 2px rgba(0, 0, 0, 0.3));\n",
              "      fill: #FFFFFF;\n",
              "    }\n",
              "  </style>\n",
              "\n",
              "      <script>\n",
              "        const buttonEl =\n",
              "          document.querySelector('#df-1df00886-e584-4708-b059-04029e3172de button.colab-df-convert');\n",
              "        buttonEl.style.display =\n",
              "          google.colab.kernel.accessAllowed ? 'block' : 'none';\n",
              "\n",
              "        async function convertToInteractive(key) {\n",
              "          const element = document.querySelector('#df-1df00886-e584-4708-b059-04029e3172de');\n",
              "          const dataTable =\n",
              "            await google.colab.kernel.invokeFunction('convertToInteractive',\n",
              "                                                     [key], {});\n",
              "          if (!dataTable) return;\n",
              "\n",
              "          const docLinkHtml = 'Like what you see? Visit the ' +\n",
              "            '<a target=\"_blank\" href=https://colab.research.google.com/notebooks/data_table.ipynb>data table notebook</a>'\n",
              "            + ' to learn more about interactive tables.';\n",
              "          element.innerHTML = '';\n",
              "          dataTable['output_type'] = 'display_data';\n",
              "          await google.colab.output.renderOutput(dataTable, element);\n",
              "          const docLink = document.createElement('div');\n",
              "          docLink.innerHTML = docLinkHtml;\n",
              "          element.appendChild(docLink);\n",
              "        }\n",
              "      </script>\n",
              "    </div>\n",
              "  </div>\n",
              "  "
            ],
            "text/plain": [
              "   is_sarcastic  ...                                       article_link\n",
              "0             1  ...  https://www.theonion.com/thirtysomething-scien...\n",
              "1             0  ...  https://www.huffingtonpost.com/entry/donna-edw...\n",
              "2             0  ...  https://www.huffingtonpost.com/entry/eat-your-...\n",
              "3             1  ...  https://local.theonion.com/inclement-weather-p...\n",
              "4             1  ...  https://www.theonion.com/mother-comes-pretty-c...\n",
              "\n",
              "[5 rows x 3 columns]"
            ]
          },
          "metadata": {},
          "execution_count": 192
        }
      ]
    },
    {
      "cell_type": "markdown",
      "metadata": {
        "id": "ZM0IFJjcjDyB"
      },
      "source": [
        "### Retain relevant columns"
      ]
    },
    {
      "cell_type": "code",
      "execution_count": 193,
      "metadata": {
        "id": "pEfRTOxQmLEl"
      },
      "outputs": [],
      "source": [
        "# Extracting dependent and independent variables\n",
        "X = headlines['headline']\n",
        "y = headlines['is_sarcastic']"
      ]
    },
    {
      "cell_type": "markdown",
      "metadata": {
        "id": "cBU1LQZgmKSq"
      },
      "source": [
        "### Create features and labels"
      ]
    },
    {
      "cell_type": "code",
      "execution_count": 194,
      "metadata": {
        "id": "a4zHSuX_mMnu"
      },
      "outputs": [],
      "source": [
        "# split X and y into training and testing sets\n",
        "X_train, X_test, y_train, y_test = train_test_split(X, y, random_state=2)"
      ]
    },
    {
      "cell_type": "markdown",
      "metadata": {
        "id": "ASCkDicTmM9T"
      },
      "source": [
        "### Get vocabulary size"
      ]
    },
    {
      "cell_type": "code",
      "source": [
        "vocab_size = 10000\n",
        "tokenizer = Tokenizer(num_words=vocab_size)\n",
        "tokenizer.fit_on_texts(X_train.tolist())"
      ],
      "metadata": {
        "id": "MKGW_w-nWcmU"
      },
      "execution_count": 195,
      "outputs": []
    },
    {
      "cell_type": "markdown",
      "metadata": {
        "id": "wg9OTdjAmHW3"
      },
      "source": [
        "### Get indices for words"
      ]
    },
    {
      "cell_type": "code",
      "source": [
        "X_train = tokenizer.texts_to_sequences(X_train.tolist())\n",
        "X_test = tokenizer.texts_to_sequences(X_test.tolist())"
      ],
      "metadata": {
        "id": "xYlZ_T3-Wcjz"
      },
      "execution_count": 196,
      "outputs": []
    },
    {
      "cell_type": "code",
      "source": [
        "#Define maximum number of words to consider in each review\n",
        "max_review_length = 50"
      ],
      "metadata": {
        "id": "aY8Bd6VQuaNO"
      },
      "execution_count": 197,
      "outputs": []
    },
    {
      "cell_type": "code",
      "source": [
        "#Pad training and test reviews\n",
        "X_train = tf.keras.preprocessing.sequence.pad_sequences(X_train,\n",
        "                                                        maxlen=max_review_length,\n",
        "                                                        padding='pre', truncating='post')\n",
        "X_test = tf.keras.preprocessing.sequence.pad_sequences(X_test, \n",
        "                                                       maxlen=max_review_length, \n",
        "                                                       padding='pre', truncating='post')"
      ],
      "metadata": {
        "id": "CXlsdebYuaKt"
      },
      "execution_count": 198,
      "outputs": []
    },
    {
      "cell_type": "markdown",
      "metadata": {
        "id": "fp57XOGzmEic"
      },
      "source": [
        "### Define parameters"
      ]
    },
    {
      "cell_type": "code",
      "source": [
        "#Glove file - we are using model with 50 embedding size\n",
        "glove_input_file = '/content/drive/MyDrive/AI-ML/NLP Project/DataSet - glove.6B.50d.txt'\n",
        "#Name for word2vec file\n",
        "word2vec_output_file = '/content/drive/MyDrive/AI-ML/NLP Project/glove.6B.50d.txt.word2vec'"
      ],
      "metadata": {
        "id": "zEHMU_DqQn9b"
      },
      "execution_count": 199,
      "outputs": []
    },
    {
      "cell_type": "code",
      "source": [
        "#Convert Glove embeddings to Word2Vec embeddings\n",
        "glove2word2vec(glove_input_file, word2vec_output_file)"
      ],
      "metadata": {
        "colab": {
          "base_uri": "https://localhost:8080/"
        },
        "id": "kpJHLqrFnhXo",
        "outputId": "699829a0-1af2-4d86-ba8d-cd0432becc9e"
      },
      "execution_count": 200,
      "outputs": [
        {
          "output_type": "execute_result",
          "data": {
            "text/plain": [
              "(400000, 50)"
            ]
          },
          "metadata": {},
          "execution_count": 200
        }
      ]
    },
    {
      "cell_type": "code",
      "source": [
        "# Load pretrained Glove model (in word2vec form)\n",
        "glove_model = KeyedVectors.load_word2vec_format(word2vec_output_file, binary=False)"
      ],
      "metadata": {
        "id": "h_cit-4_u8RA"
      },
      "execution_count": 201,
      "outputs": []
    },
    {
      "cell_type": "code",
      "source": [
        "#Embedding length based on selected model - we are using 50d here.\n",
        "embedding_vector_length = 50"
      ],
      "metadata": {
        "id": "nDt5FvcUu8Nv"
      },
      "execution_count": 202,
      "outputs": []
    },
    {
      "cell_type": "markdown",
      "metadata": {
        "id": "LgZQwuc8mP79"
      },
      "source": [
        "### Create a weight matrix using GloVe embeddings"
      ]
    },
    {
      "cell_type": "code",
      "source": [
        "#Initialize embedding matrix\n",
        "embedding_matrix = np.zeros((vocab_size + 1, embedding_vector_length))"
      ],
      "metadata": {
        "id": "fEoRmFRjh7Iu"
      },
      "execution_count": 203,
      "outputs": []
    },
    {
      "cell_type": "code",
      "source": [
        "embedding_matrix.shape"
      ],
      "metadata": {
        "colab": {
          "base_uri": "https://localhost:8080/"
        },
        "id": "I9O0Zcs8vSUc",
        "outputId": "1e18f517-9a0d-41b9-fb8d-eb9b1d2e5c79"
      },
      "execution_count": 204,
      "outputs": [
        {
          "output_type": "execute_result",
          "data": {
            "text/plain": [
              "(10001, 50)"
            ]
          },
          "metadata": {},
          "execution_count": 204
        }
      ]
    },
    {
      "cell_type": "code",
      "source": [
        "#Initialize embedding matrix\n",
        "embedding_matrix = np.zeros((vocab_size + 1, embedding_vector_length))\n",
        "\n",
        "for word, i in sorted(tokenizer.word_index.items(),key=lambda x:x[1]):\n",
        "    if i > (vocab_size+1):\n",
        "        break\n",
        "    try:\n",
        "        embedding_vector = glove_model[word] #Reading word's embedding from Glove model for a given word\n",
        "        embedding_matrix[i] = embedding_vector\n",
        "    except:\n",
        "        pass"
      ],
      "metadata": {
        "id": "0Yl8Q0g5u8LR"
      },
      "execution_count": 205,
      "outputs": []
    },
    {
      "cell_type": "code",
      "source": [
        "#Word the - index 1\n",
        "embedding_matrix[3]"
      ],
      "metadata": {
        "colab": {
          "base_uri": "https://localhost:8080/"
        },
        "id": "2B9VBnw_u8Cq",
        "outputId": "a0296591-8a11-450d-81ff-ab6b4661ebae"
      },
      "execution_count": 206,
      "outputs": [
        {
          "output_type": "execute_result",
          "data": {
            "text/plain": [
              "array([ 4.18000013e-01,  2.49679998e-01, -4.12420005e-01,  1.21699996e-01,\n",
              "        3.45270008e-01, -4.44569997e-02, -4.96879995e-01, -1.78619996e-01,\n",
              "       -6.60229998e-04, -6.56599998e-01,  2.78430015e-01, -1.47670001e-01,\n",
              "       -5.56770027e-01,  1.46579996e-01, -9.50950012e-03,  1.16579998e-02,\n",
              "        1.02040000e-01, -1.27920002e-01, -8.44299972e-01, -1.21809997e-01,\n",
              "       -1.68009996e-02, -3.32789987e-01, -1.55200005e-01, -2.31309995e-01,\n",
              "       -1.91809997e-01, -1.88230002e+00, -7.67459989e-01,  9.90509987e-02,\n",
              "       -4.21249986e-01, -1.95260003e-01,  4.00710011e+00, -1.85939997e-01,\n",
              "       -5.22870004e-01, -3.16810012e-01,  5.92130003e-04,  7.44489999e-03,\n",
              "        1.77780002e-01, -1.58969998e-01,  1.20409997e-02, -5.42230010e-02,\n",
              "       -2.98709989e-01, -1.57490000e-01, -3.47579986e-01, -4.56370004e-02,\n",
              "       -4.42510009e-01,  1.87849998e-01,  2.78489990e-03, -1.84110001e-01,\n",
              "       -1.15139998e-01, -7.85809994e-01])"
            ]
          },
          "metadata": {},
          "execution_count": 206
        }
      ]
    },
    {
      "cell_type": "markdown",
      "metadata": {
        "id": "_Xbkirg0mSfu"
      },
      "source": [
        "### Define and compile a Bidirectional LSTM model."
      ]
    },
    {
      "cell_type": "code",
      "source": [
        "#Initialize model\n",
        "tf.keras.backend.clear_session()\n",
        "model = tf.keras.Sequential()"
      ],
      "metadata": {
        "id": "pa9ymonmvZUK"
      },
      "execution_count": 207,
      "outputs": []
    },
    {
      "cell_type": "code",
      "source": [
        "model.add(tf.keras.layers.Embedding(vocab_size + 1, #Vocablury size\n",
        "                                    embedding_vector_length, #Embedding size\n",
        "                                    weights=[embedding_matrix], #Embeddings taken from pre-trained model\n",
        "                                    trainable=False, #As embeddings are already available, we will not train this layer. It will act as lookup layer.\n",
        "                                    input_length=max_review_length) #Number of words in each review\n",
        "          )"
      ],
      "metadata": {
        "id": "4vT4vc-hjBjG"
      },
      "execution_count": 208,
      "outputs": []
    },
    {
      "cell_type": "code",
      "source": [
        "model.add(tf.keras.layers.Dropout(0.2))\n",
        "model.add(tf.keras.layers.LSTM(256)) #RNN State - size of cell state and hidden state\n",
        "model.add(tf.keras.layers.Dropout(0.2))\n",
        "model.add(tf.keras.layers.Dense(1,activation='sigmoid'))"
      ],
      "metadata": {
        "id": "YtO3Xc5ZvgIY"
      },
      "execution_count": 209,
      "outputs": []
    },
    {
      "cell_type": "code",
      "source": [
        "#Compile the model\n",
        "model.compile(optimizer='adam',loss='binary_crossentropy',metrics=['accuracy'])"
      ],
      "metadata": {
        "id": "ANT3hWvZvjqs"
      },
      "execution_count": 210,
      "outputs": []
    },
    {
      "cell_type": "code",
      "source": [
        "model.summary()"
      ],
      "metadata": {
        "colab": {
          "base_uri": "https://localhost:8080/"
        },
        "id": "hfLaQgfxvoYH",
        "outputId": "211baf41-c89a-462f-cc34-f77ecd7d91fb"
      },
      "execution_count": 211,
      "outputs": [
        {
          "output_type": "stream",
          "name": "stdout",
          "text": [
            "Model: \"sequential\"\n",
            "_________________________________________________________________\n",
            " Layer (type)                Output Shape              Param #   \n",
            "=================================================================\n",
            " embedding (Embedding)       (None, 50, 50)            500050    \n",
            "                                                                 \n",
            " dropout (Dropout)           (None, 50, 50)            0         \n",
            "                                                                 \n",
            " lstm (LSTM)                 (None, 256)               314368    \n",
            "                                                                 \n",
            " dropout_1 (Dropout)         (None, 256)               0         \n",
            "                                                                 \n",
            " dense (Dense)               (None, 1)                 257       \n",
            "                                                                 \n",
            "=================================================================\n",
            "Total params: 814,675\n",
            "Trainable params: 314,625\n",
            "Non-trainable params: 500,050\n",
            "_________________________________________________________________\n"
          ]
        }
      ]
    },
    {
      "cell_type": "markdown",
      "metadata": {
        "id": "tSf31PEFmU_N"
      },
      "source": [
        "### Fit the model and check the validation accuracy"
      ]
    },
    {
      "cell_type": "code",
      "source": [
        "history = model.fit(X_train,y_train,\n",
        "                    epochs=10,\n",
        "                    batch_size=32, \n",
        "                    validation_data=(X_test, y_test))  "
      ],
      "metadata": {
        "colab": {
          "base_uri": "https://localhost:8080/"
        },
        "id": "FJyYU1SyjqeR",
        "outputId": "778324d6-f7f0-446c-e572-cad5a566492c"
      },
      "execution_count": 212,
      "outputs": [
        {
          "output_type": "stream",
          "name": "stdout",
          "text": [
            "Epoch 1/10\n",
            "671/671 [==============================] - 8s 9ms/step - loss: 0.5791 - accuracy: 0.6923 - val_loss: 0.5127 - val_accuracy: 0.7526\n",
            "Epoch 2/10\n",
            "671/671 [==============================] - 5s 8ms/step - loss: 0.4710 - accuracy: 0.7767 - val_loss: 0.4270 - val_accuracy: 0.8035\n",
            "Epoch 3/10\n",
            "671/671 [==============================] - 5s 8ms/step - loss: 0.4194 - accuracy: 0.8047 - val_loss: 0.4053 - val_accuracy: 0.8137\n",
            "Epoch 4/10\n",
            "671/671 [==============================] - 5s 8ms/step - loss: 0.3813 - accuracy: 0.8267 - val_loss: 0.3792 - val_accuracy: 0.8271\n",
            "Epoch 5/10\n",
            "671/671 [==============================] - 5s 8ms/step - loss: 0.3541 - accuracy: 0.8414 - val_loss: 0.3644 - val_accuracy: 0.8368\n",
            "Epoch 6/10\n",
            "671/671 [==============================] - 5s 8ms/step - loss: 0.3305 - accuracy: 0.8511 - val_loss: 0.3654 - val_accuracy: 0.8382\n",
            "Epoch 7/10\n",
            "671/671 [==============================] - 5s 8ms/step - loss: 0.3096 - accuracy: 0.8627 - val_loss: 0.3573 - val_accuracy: 0.8391\n",
            "Epoch 8/10\n",
            "671/671 [==============================] - 5s 8ms/step - loss: 0.2786 - accuracy: 0.8791 - val_loss: 0.3687 - val_accuracy: 0.8412\n",
            "Epoch 9/10\n",
            "671/671 [==============================] - 5s 8ms/step - loss: 0.2588 - accuracy: 0.8892 - val_loss: 0.3647 - val_accuracy: 0.8443\n",
            "Epoch 10/10\n",
            "671/671 [==============================] - 5s 8ms/step - loss: 0.2346 - accuracy: 0.9004 - val_loss: 0.3745 - val_accuracy: 0.8398\n"
          ]
        }
      ]
    },
    {
      "cell_type": "code",
      "source": [
        "model.save('Movie_with_oretrained.h5')"
      ],
      "metadata": {
        "id": "R6Ub7b43v156"
      },
      "execution_count": 213,
      "outputs": []
    },
    {
      "cell_type": "code",
      "execution_count": 214,
      "metadata": {
        "id": "leY9tfOgmJvG"
      },
      "outputs": [],
      "source": [
        "def plot_history(history):\n",
        "    \n",
        "    plt.figure(figsize=(18, 6))\n",
        "\n",
        "    plt.subplot(1, 2, 1)\n",
        "    plt.plot(history.history['accuracy'], label='Training Accuracy', c='dodgerblue', lw='2')\n",
        "    plt.plot(history.history['val_accuracy'], label='Validation Accuracy', c='orange', lw='2')\n",
        "    plt.title('Accuracy', loc='left', fontsize=16)\n",
        "    plt.xlabel(\"Epochs\")\n",
        "    plt.ylabel('Accuracy')\n",
        "    plt.legend()\n",
        "\n",
        "    plt.subplot(1, 2, 2)\n",
        "    plt.plot(history.history['loss'], label='Training Loss', c='dodgerblue', lw='2')\n",
        "    plt.plot(history.history['val_loss'], label='Validation Loss', c='orange', lw='2')\n",
        "    plt.title('Loss', loc='left', fontsize=16)\n",
        "    plt.xlabel(\"Epochs\")\n",
        "    plt.ylabel('Loss')\n",
        "    plt.legend()\n",
        "\n",
        "    plt.show()"
      ]
    },
    {
      "cell_type": "code",
      "execution_count": 215,
      "metadata": {
        "id": "tIlbukyEmNkm"
      },
      "outputs": [],
      "source": [
        "def plot_cm(pred):\n",
        "    \n",
        "    pred = pred.ravel()\n",
        "    pred = np.round(pred)\n",
        "    \n",
        "    fig, ax = plt.subplots(1, 1, figsize=(5, 5))\n",
        "\n",
        "    cm = confusion_matrix(y_test, pred)\n",
        "    sns.heatmap(cm, annot=True, cbar=False, fmt='1d', cmap='Blues', ax=ax)\n",
        "\n",
        "    ax.set_xlabel('Predicted')\n",
        "    ax.set_ylabel('Actual')\n",
        "    ax.set_yticklabels(['Non-Sarcastic', 'Sarcastic', ])\n",
        "    ax.set_xticklabels(['Non-Sarcastic', 'Sarcastic'])\n",
        "\n",
        "    plt.show()"
      ]
    },
    {
      "cell_type": "code",
      "execution_count": 216,
      "metadata": {
        "id": "uw3dZSeImPpJ",
        "colab": {
          "base_uri": "https://localhost:8080/",
          "height": 393
        },
        "outputId": "2f1de553-1203-4572-b940-c36469039dd9"
      },
      "outputs": [
        {
          "output_type": "display_data",
          "data": {
            "image/png": "[encoded data removed]",
            "text/plain": [
              "<Figure size 1296x432 with 2 Axes>"
            ]
          },
          "metadata": {
            "needs_background": "light"
          }
        }
      ],
      "source": [
        "# plot history\n",
        "plot_history(history)"
      ]
    },
    {
      "cell_type": "code",
      "execution_count": 217,
      "metadata": {
        "id": "Ecc0Hyb9mQk3",
        "colab": {
          "base_uri": "https://localhost:8080/",
          "height": 351
        },
        "outputId": "2622a0b9-c28c-4485-83a2-587f6fb440f7"
      },
      "outputs": [
        {
          "output_type": "stream",
          "name": "stdout",
          "text": [
            "7/7 [==============================] - 1s 9ms/step\n"
          ]
        },
        {
          "output_type": "display_data",
          "data": {
            "image/png": "[encoded data removed]",
            "text/plain": [
              "<Figure size 360x360 with 1 Axes>"
            ]
          },
          "metadata": {
            "needs_background": "light"
          }
        }
      ],
      "source": [
        "# plot confusion matrix\n",
        "pred = model.predict(X_test, batch_size = 1024, verbose = 1)\n",
        "plot_cm(pred)"
      ]
    }
  ],
  "metadata": {
    "colab": {
      "name": "NLP Project - 2 Week5.ipynb",
      "provenance": [],
      "toc_visible": true,
      "machine_shape": "hm"
    },
    "kernelspec": {
      "display_name": "Python 3",
      "name": "python3"
    },
    "language_info": {
      "name": "python"
    },
    "accelerator": "GPU"
  },
  "nbformat": 4,
  "nbformat_minor": 0
}